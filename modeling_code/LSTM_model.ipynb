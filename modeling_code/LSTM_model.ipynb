{
 "cells": [
  {
   "cell_type": "code",
   "execution_count": 1,
   "id": "aea6b9b2",
   "metadata": {},
   "outputs": [],
   "source": [
    "import pandas as pd\n",
    "import numpy as np\n",
    "from sklearn.preprocessing import StandardScaler\n",
    "# Keras / Deep Learning\n",
    "from keras.models import Sequential\n",
    "from keras.layers.core import Dense, Dropout, Activation\n",
    "from keras import optimizers, regularizers\n",
    "from keras.optimizers import Adam\n",
    "from tensorflow.python.keras.layers import Dense\n",
    "from tensorflow.python.keras.layers import LSTM\n",
    "from tensorflow.python.keras import Sequential\n",
    "import matplotlib.pyplot as plt"
   ]
  },
  {
   "cell_type": "code",
   "execution_count": 9,
   "id": "d492c733",
   "metadata": {},
   "outputs": [],
   "source": [
    "data = pd.read_csv('/Users/lincong/Downloads/lstmdata.csv')"
   ]
  },
  {
   "cell_type": "code",
   "execution_count": 12,
   "id": "5f9f35a5",
   "metadata": {},
   "outputs": [],
   "source": [
    "data = data.sort_values(by=['timestamp']).reset_index().drop('index', axis = 1)"
   ]
  },
  {
   "cell_type": "code",
   "execution_count": 33,
   "id": "6618fd8e",
   "metadata": {},
   "outputs": [],
   "source": [
    "final_lstm_data = data.loc[74:, ].reset_index().drop('index', axis = 1)"
   ]
  },
  {
   "cell_type": "code",
   "execution_count": 43,
   "id": "54f03a6c",
   "metadata": {},
   "outputs": [],
   "source": [
    "x_data = final_lstm_data.drop(['timestamp', 'Close'], axis = 1)\n",
    "y_data = final_lstm_data['Close']"
   ]
  },
  {
   "cell_type": "code",
   "execution_count": 44,
   "id": "1ad5826d",
   "metadata": {},
   "outputs": [],
   "source": [
    "# train/test split\n",
    "train_ind = int(0.8 * final_lstm_data.shape[0])\n",
    "x_train = x_data[:train_ind]\n",
    "x_test = x_data[train_ind:]\n",
    "y_train = y_data[:train_ind]\n",
    "y_test = y_data[train_ind:]"
   ]
  },
  {
   "cell_type": "code",
   "execution_count": 49,
   "id": "519b2e96",
   "metadata": {},
   "outputs": [],
   "source": [
    "# standardization\n",
    "scaler_x = StandardScaler()\n",
    "scaler_y = StandardScaler()\n",
    "\n",
    "x_train_sc = scaler_x.fit_transform(x_train)\n",
    "x_test_sc = scaler_x.transform(x_test)"
   ]
  },
  {
   "cell_type": "code",
   "execution_count": 60,
   "id": "bee56a9e",
   "metadata": {},
   "outputs": [],
   "source": [
    "y_train = np.array(y_train)\n",
    "y_test = np.array(y_test)\n",
    "y_train = y_train.reshape(y_train.shape[0], -1)\n",
    "y_test = y_test.reshape(y_test.shape[0], -1)"
   ]
  },
  {
   "cell_type": "code",
   "execution_count": 64,
   "id": "8637b0d5",
   "metadata": {},
   "outputs": [],
   "source": [
    "y_train_sc = scaler_y.fit_transform(y_train)\n",
    "y_test_sc = scaler_y.transform(y_test)"
   ]
  },
  {
   "cell_type": "code",
   "execution_count": 66,
   "id": "5771062f",
   "metadata": {},
   "outputs": [],
   "source": [
    "def lstm_data_transform(x_data, y_data, num_steps=5):\n",
    "    # Prepare the list for the transformed data\n",
    "    X, y = list(), list()\n",
    "    # Loop of the entire data set\n",
    "    for i in range(x_data.shape[0]):\n",
    "        # compute a new (sliding window) index\n",
    "        end_ix = i + num_steps\n",
    "        # if index is larger than the size of the dataset, we stop\n",
    "        if end_ix >= x_data.shape[0]:\n",
    "            break\n",
    "        # Get a sequence of data for x\n",
    "        seq_X = x_data[i:end_ix]\n",
    "        # Get only the last element of the sequency for y\n",
    "        seq_y = y_data[end_ix]\n",
    "        # Append the list with sequencies\n",
    "        X.append(seq_X)\n",
    "        y.append(seq_y)\n",
    "    # Make final arrays\n",
    "    x_array = np.array(X)\n",
    "    y_array = np.array(y)\n",
    "    return x_array, y_array"
   ]
  },
  {
   "cell_type": "code",
   "execution_count": 132,
   "id": "5f1be55b",
   "metadata": {},
   "outputs": [],
   "source": [
    "num_steps = 3\n",
    "# training set\n",
    "(x_train_transformed, y_train_transformed) = lstm_data_transform(x_train_sc, y_train_sc, num_steps=num_steps)\n",
    "\n",
    "# test set\n",
    "(x_test_transformed, y_test_transformed) = lstm_data_transform(x_test_sc, y_test_sc, num_steps=num_steps)\n"
   ]
  },
  {
   "cell_type": "code",
   "execution_count": 134,
   "id": "7d17b448",
   "metadata": {},
   "outputs": [],
   "source": [
    "model = Sequential()\n",
    "model.add(LSTM(20, activation='tanh', input_shape=(num_steps, 6), return_sequences=False))\n",
    "model.add(Dense(units=20, activation='relu'))\n",
    "model.add(Dense(units=1, activation='linear'))\n",
    "\n",
    "model.compile(optimizer='adam', loss='mse')"
   ]
  },
  {
   "cell_type": "code",
   "execution_count": 142,
   "id": "aab7ae2e",
   "metadata": {},
   "outputs": [
    {
     "name": "stdout",
     "output_type": "stream",
     "text": [
      "Model: \"sequential_13\"\n",
      "_________________________________________________________________\n",
      "Layer (type)                 Output Shape              Param #   \n",
      "=================================================================\n",
      "lstm_12 (LSTM)               (None, 20)                2160      \n",
      "_________________________________________________________________\n",
      "dense_24 (Dense)             (None, 20)                420       \n",
      "_________________________________________________________________\n",
      "dense_25 (Dense)             (None, 1)                 21        \n",
      "=================================================================\n",
      "Total params: 2,601\n",
      "Trainable params: 2,601\n",
      "Non-trainable params: 0\n",
      "_________________________________________________________________\n"
     ]
    }
   ],
   "source": [
    "model.summary()"
   ]
  },
  {
   "cell_type": "code",
   "execution_count": 135,
   "id": "e9ea1b53",
   "metadata": {
    "scrolled": true
   },
   "outputs": [
    {
     "name": "stdout",
     "output_type": "stream",
     "text": [
      "Train on 246 samples\n",
      "Epoch 1/100\n",
      "246/246 [==============================] - 3s 12ms/sample - loss: 0.9718\n",
      "Epoch 2/100\n",
      "246/246 [==============================] - 0s 234us/sample - loss: 0.7223\n",
      "Epoch 3/100\n",
      "246/246 [==============================] - 0s 243us/sample - loss: 0.5236\n",
      "Epoch 4/100\n",
      "246/246 [==============================] - 0s 230us/sample - loss: 0.3595\n",
      "Epoch 5/100\n",
      "246/246 [==============================] - 0s 243us/sample - loss: 0.2363\n",
      "Epoch 6/100\n",
      "246/246 [==============================] - 0s 236us/sample - loss: 0.1504\n",
      "Epoch 7/100\n",
      "246/246 [==============================] - 0s 280us/sample - loss: 0.0927\n",
      "Epoch 8/100\n",
      "246/246 [==============================] - 0s 239us/sample - loss: 0.0601\n",
      "Epoch 9/100\n",
      "246/246 [==============================] - 0s 246us/sample - loss: 0.0466\n",
      "Epoch 10/100\n",
      "246/246 [==============================] - 0s 252us/sample - loss: 0.0414\n",
      "Epoch 11/100\n",
      "246/246 [==============================] - 0s 237us/sample - loss: 0.0394\n",
      "Epoch 12/100\n",
      "246/246 [==============================] - 0s 235us/sample - loss: 0.0380\n",
      "Epoch 13/100\n",
      "246/246 [==============================] - 0s 228us/sample - loss: 0.0367\n",
      "Epoch 14/100\n",
      "246/246 [==============================] - 0s 231us/sample - loss: 0.0355\n",
      "Epoch 15/100\n",
      "246/246 [==============================] - 0s 233us/sample - loss: 0.0347\n",
      "Epoch 16/100\n",
      "246/246 [==============================] - 0s 234us/sample - loss: 0.0340\n",
      "Epoch 17/100\n",
      "246/246 [==============================] - 0s 226us/sample - loss: 0.0334\n",
      "Epoch 18/100\n",
      "246/246 [==============================] - 0s 239us/sample - loss: 0.0329\n",
      "Epoch 19/100\n",
      "246/246 [==============================] - 0s 232us/sample - loss: 0.0324\n",
      "Epoch 20/100\n",
      "246/246 [==============================] - 0s 249us/sample - loss: 0.0320\n",
      "Epoch 21/100\n",
      "246/246 [==============================] - 0s 252us/sample - loss: 0.0316\n",
      "Epoch 22/100\n",
      "246/246 [==============================] - 0s 252us/sample - loss: 0.0312\n",
      "Epoch 23/100\n",
      "246/246 [==============================] - 0s 241us/sample - loss: 0.0311\n",
      "Epoch 24/100\n",
      "246/246 [==============================] - 0s 452us/sample - loss: 0.0308\n",
      "Epoch 25/100\n",
      "246/246 [==============================] - 0s 244us/sample - loss: 0.0305\n",
      "Epoch 26/100\n",
      "246/246 [==============================] - 0s 232us/sample - loss: 0.0302\n",
      "Epoch 27/100\n",
      "246/246 [==============================] - 0s 234us/sample - loss: 0.0301\n",
      "Epoch 28/100\n",
      "246/246 [==============================] - 0s 236us/sample - loss: 0.0301\n",
      "Epoch 29/100\n",
      "246/246 [==============================] - 0s 238us/sample - loss: 0.0297\n",
      "Epoch 30/100\n",
      "246/246 [==============================] - 0s 234us/sample - loss: 0.0295\n",
      "Epoch 31/100\n",
      "246/246 [==============================] - 0s 225us/sample - loss: 0.0294\n",
      "Epoch 32/100\n",
      "246/246 [==============================] - 0s 227us/sample - loss: 0.0293\n",
      "Epoch 33/100\n",
      "246/246 [==============================] - 0s 236us/sample - loss: 0.0291\n",
      "Epoch 34/100\n",
      "246/246 [==============================] - 0s 232us/sample - loss: 0.0290\n",
      "Epoch 35/100\n",
      "246/246 [==============================] - 0s 234us/sample - loss: 0.0289\n",
      "Epoch 36/100\n",
      "246/246 [==============================] - 0s 233us/sample - loss: 0.0287\n",
      "Epoch 37/100\n",
      "246/246 [==============================] - 0s 238us/sample - loss: 0.0286\n",
      "Epoch 38/100\n",
      "246/246 [==============================] - 0s 226us/sample - loss: 0.0285\n",
      "Epoch 39/100\n",
      "246/246 [==============================] - 0s 238us/sample - loss: 0.0284\n",
      "Epoch 40/100\n",
      "246/246 [==============================] - 0s 228us/sample - loss: 0.0284\n",
      "Epoch 41/100\n",
      "246/246 [==============================] - 0s 239us/sample - loss: 0.0282\n",
      "Epoch 42/100\n",
      "246/246 [==============================] - 0s 230us/sample - loss: 0.0282\n",
      "Epoch 43/100\n",
      "246/246 [==============================] - 0s 272us/sample - loss: 0.0281\n",
      "Epoch 44/100\n",
      "246/246 [==============================] - 0s 222us/sample - loss: 0.0281\n",
      "Epoch 45/100\n",
      "246/246 [==============================] - 0s 236us/sample - loss: 0.0279\n",
      "Epoch 46/100\n",
      "246/246 [==============================] - 0s 230us/sample - loss: 0.0280\n",
      "Epoch 47/100\n",
      "246/246 [==============================] - 0s 245us/sample - loss: 0.0278\n",
      "Epoch 48/100\n",
      "246/246 [==============================] - 0s 336us/sample - loss: 0.0277\n",
      "Epoch 49/100\n",
      "246/246 [==============================] - 0s 613us/sample - loss: 0.0276\n",
      "Epoch 50/100\n",
      "246/246 [==============================] - 0s 2ms/sample - loss: 0.0275\n",
      "Epoch 51/100\n",
      "246/246 [==============================] - 0s 707us/sample - loss: 0.0274\n",
      "Epoch 52/100\n",
      "246/246 [==============================] - 0s 1ms/sample - loss: 0.0274\n",
      "Epoch 53/100\n",
      "246/246 [==============================] - 0s 2ms/sample - loss: 0.0272\n",
      "Epoch 54/100\n",
      "246/246 [==============================] - 0s 2ms/sample - loss: 0.0272\n",
      "Epoch 55/100\n",
      "246/246 [==============================] - 0s 2ms/sample - loss: 0.0271\n",
      "Epoch 56/100\n",
      "246/246 [==============================] - 0s 281us/sample - loss: 0.0270\n",
      "Epoch 57/100\n",
      "246/246 [==============================] - 0s 342us/sample - loss: 0.0269\n",
      "Epoch 58/100\n",
      "246/246 [==============================] - 0s 395us/sample - loss: 0.0268\n",
      "Epoch 59/100\n",
      "246/246 [==============================] - 0s 449us/sample - loss: 0.0267\n",
      "Epoch 60/100\n",
      "246/246 [==============================] - 0s 547us/sample - loss: 0.0267\n",
      "Epoch 61/100\n",
      "246/246 [==============================] - 0s 591us/sample - loss: 0.0265\n",
      "Epoch 62/100\n",
      "246/246 [==============================] - 0s 452us/sample - loss: 0.0268\n",
      "Epoch 63/100\n",
      "246/246 [==============================] - 0s 487us/sample - loss: 0.0265\n",
      "Epoch 64/100\n",
      "246/246 [==============================] - 0s 423us/sample - loss: 0.0264\n",
      "Epoch 65/100\n",
      "246/246 [==============================] - 0s 630us/sample - loss: 0.0263\n",
      "Epoch 66/100\n",
      "246/246 [==============================] - 0s 545us/sample - loss: 0.0262\n",
      "Epoch 67/100\n",
      "246/246 [==============================] - 0s 298us/sample - loss: 0.0262\n",
      "Epoch 68/100\n",
      "246/246 [==============================] - 0s 349us/sample - loss: 0.0261\n",
      "Epoch 69/100\n",
      "246/246 [==============================] - 0s 420us/sample - loss: 0.0260\n",
      "Epoch 70/100\n",
      "246/246 [==============================] - 0s 516us/sample - loss: 0.0260\n",
      "Epoch 71/100\n",
      "246/246 [==============================] - 0s 503us/sample - loss: 0.0260\n",
      "Epoch 72/100\n",
      "246/246 [==============================] - 0s 340us/sample - loss: 0.0258\n",
      "Epoch 73/100\n",
      "246/246 [==============================] - 0s 385us/sample - loss: 0.0258\n",
      "Epoch 74/100\n",
      "246/246 [==============================] - 0s 519us/sample - loss: 0.0257\n",
      "Epoch 75/100\n",
      "246/246 [==============================] - 0s 396us/sample - loss: 0.0256\n",
      "Epoch 76/100\n",
      "246/246 [==============================] - 0s 604us/sample - loss: 0.0257\n",
      "Epoch 77/100\n",
      "246/246 [==============================] - 0s 488us/sample - loss: 0.0255\n",
      "Epoch 78/100\n",
      "246/246 [==============================] - 0s 512us/sample - loss: 0.0254\n",
      "Epoch 79/100\n",
      "246/246 [==============================] - 0s 709us/sample - loss: 0.0254\n",
      "Epoch 80/100\n",
      "246/246 [==============================] - 0s 530us/sample - loss: 0.0253\n",
      "Epoch 81/100\n",
      "246/246 [==============================] - 0s 731us/sample - loss: 0.0251\n",
      "Epoch 82/100\n",
      "246/246 [==============================] - 0s 616us/sample - loss: 0.0251\n",
      "Epoch 83/100\n",
      "246/246 [==============================] - 0s 893us/sample - loss: 0.0250\n",
      "Epoch 84/100\n",
      "246/246 [==============================] - 0s 508us/sample - loss: 0.0250\n",
      "Epoch 85/100\n",
      "246/246 [==============================] - 0s 426us/sample - loss: 0.0249\n",
      "Epoch 86/100\n",
      "246/246 [==============================] - 0s 306us/sample - loss: 0.0248\n",
      "Epoch 87/100\n",
      "246/246 [==============================] - 0s 376us/sample - loss: 0.0247\n",
      "Epoch 88/100\n",
      "246/246 [==============================] - 0s 359us/sample - loss: 0.0247\n",
      "Epoch 89/100\n",
      "246/246 [==============================] - 0s 912us/sample - loss: 0.0245\n",
      "Epoch 90/100\n",
      "246/246 [==============================] - 0s 447us/sample - loss: 0.0245\n",
      "Epoch 91/100\n",
      "246/246 [==============================] - 0s 484us/sample - loss: 0.0244\n",
      "Epoch 92/100\n",
      "246/246 [==============================] - 0s 434us/sample - loss: 0.0244\n",
      "Epoch 93/100\n",
      "246/246 [==============================] - 0s 463us/sample - loss: 0.0243\n",
      "Epoch 94/100\n",
      "246/246 [==============================] - 0s 392us/sample - loss: 0.0243\n",
      "Epoch 95/100\n"
     ]
    },
    {
     "name": "stdout",
     "output_type": "stream",
     "text": [
      "246/246 [==============================] - 0s 311us/sample - loss: 0.0241\n",
      "Epoch 96/100\n",
      "246/246 [==============================] - 0s 303us/sample - loss: 0.0240\n",
      "Epoch 97/100\n",
      "246/246 [==============================] - 0s 345us/sample - loss: 0.0241\n",
      "Epoch 98/100\n",
      "246/246 [==============================] - 0s 389us/sample - loss: 0.0240\n",
      "Epoch 99/100\n",
      "246/246 [==============================] - 0s 387us/sample - loss: 0.0239\n",
      "Epoch 100/100\n",
      "246/246 [==============================] - 0s 339us/sample - loss: 0.0239\n"
     ]
    }
   ],
   "source": [
    "model.fit(x_train_transformed, y_train_transformed, epochs=100)\n",
    "test_predict = model.predict(x_test_transformed)"
   ]
  },
  {
   "cell_type": "code",
   "execution_count": 136,
   "id": "09b2457a",
   "metadata": {},
   "outputs": [
    {
     "data": {
      "image/png": "[encoded data removed]",
      "text/plain": [
       "<Figure size 432x288 with 1 Axes>"
      ]
     },
     "metadata": {
      "needs_background": "light"
     },
     "output_type": "display_data"
    }
   ],
   "source": [
    "plt.plot(y_test_transformed, label = 'True Time Series')\n",
    "plt.plot(test_predict, label = 'Predicted Time Series')\n",
    "plt.legend()\n",
    "plt.show()"
   ]
  },
  {
   "cell_type": "code",
   "execution_count": null,
   "id": "85107844",
   "metadata": {},
   "outputs": [],
   "source": []
  }
 ],
 "metadata": {
  "kernelspec": {
   "display_name": "Python 3",
   "language": "python",
   "name": "python3"
  },
  "language_info": {
   "codemirror_mode": {
    "name": "ipython",
    "version": 3
   },
   "file_extension": ".py",
   "mimetype": "text/x-python",
   "name": "python",
   "nbconvert_exporter": "python",
   "pygments_lexer": "ipython3",
   "version": "3.6.13"
  }
 },
 "nbformat": 4,
 "nbformat_minor": 5
}
