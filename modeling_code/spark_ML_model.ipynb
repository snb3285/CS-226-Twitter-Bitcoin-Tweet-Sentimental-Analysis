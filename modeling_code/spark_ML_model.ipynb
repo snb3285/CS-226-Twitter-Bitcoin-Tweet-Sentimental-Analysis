{
 "cells": [
  {
   "cell_type": "code",
   "execution_count": 1,
   "id": "6f7db007",
   "metadata": {},
   "outputs": [
    {
     "name": "stderr",
     "output_type": "stream",
     "text": [
      "Using TensorFlow backend.\n"
     ]
    }
   ],
   "source": [
    "# Spark Session, Pipeline, Functions, and Metrics\n",
    "from pyspark import SparkContext, SparkConf\n",
    "from pyspark.sql import SQLContext\n",
    "from pyspark.ml import Pipeline\n",
    "from pyspark.ml.feature import Tokenizer\n",
    "from pyspark.ml.feature import StringIndexer, StandardScaler, VectorAssembler, VectorIndexer\n",
    "from pyspark.ml.regression import LinearRegression, GBTRegressor\n",
    "from pyspark.ml.evaluation import RegressionEvaluator"
   ]
  },
  {
   "cell_type": "code",
   "execution_count": 2,
   "id": "7d418c6d",
   "metadata": {},
   "outputs": [],
   "source": [
    "# Spark Session\n",
    "conf = SparkConf().setAppName('Spark DL Project').setMaster('local[2]')\n",
    "sc = SparkContext(conf=conf)\n",
    "sql_context = SQLContext(sc)"
   ]
  },
  {
   "cell_type": "code",
   "execution_count": 3,
   "id": "80e34a5b",
   "metadata": {},
   "outputs": [
    {
     "data": {
      "text/html": [
       "\n",
       "        <div>\n",
       "            <p><b>SparkContext</b></p>\n",
       "\n",
       "            <p><a href=\"http://192.168.1.167:4040\">Spark UI</a></p>\n",
       "\n",
       "            <dl>\n",
       "              <dt>Version</dt>\n",
       "                <dd><code>v3.1.2</code></dd>\n",
       "              <dt>Master</dt>\n",
       "                <dd><code>local[2]</code></dd>\n",
       "              <dt>AppName</dt>\n",
       "                <dd><code>Spark DL Tabular Pipeline</code></dd>\n",
       "            </dl>\n",
       "        </div>\n",
       "        "
      ],
      "text/plain": [
       "<SparkContext master=local[2] appName=Spark DL Tabular Pipeline>"
      ]
     },
     "execution_count": 3,
     "metadata": {},
     "output_type": "execute_result"
    }
   ],
   "source": [
    "sc"
   ]
  },
  {
   "cell_type": "code",
   "execution_count": 151,
   "id": "6e3821b3",
   "metadata": {},
   "outputs": [],
   "source": [
    "# Load Data to Spark Dataframe\n",
    "textblob_data = sql_context.read.csv('/Users/lincong/Downloads/textblob_data.csv',\n",
    "                    header=True,\n",
    "                    inferSchema=True,\n",
    "                    multiLine=True)"
   ]
  },
  {
   "cell_type": "code",
   "execution_count": 154,
   "id": "dcefeb8c",
   "metadata": {},
   "outputs": [
    {
     "name": "stdout",
     "output_type": "stream",
     "text": [
      "root\n",
      " |-- timestamp: string (nullable = true)\n",
      " |-- textblob_score: double (nullable = true)\n",
      " |-- textblob_category: string (nullable = true)\n",
      " |-- cleaned_eng_text: string (nullable = true)\n",
      " |-- High: double (nullable = true)\n",
      " |-- Low: double (nullable = true)\n",
      " |-- Open: double (nullable = true)\n",
      " |-- Close: double (nullable = true)\n",
      " |-- Volume: double (nullable = true)\n",
      " |-- Marketcap: double (nullable = true)\n",
      " |-- High_pre: double (nullable = true)\n",
      " |-- Low_pre: double (nullable = true)\n",
      " |-- Open_pre: double (nullable = true)\n",
      " |-- Close_pre: double (nullable = true)\n",
      " |-- Volume_pre: double (nullable = true)\n",
      " |-- Marketcap_pre: double (nullable = true)\n",
      "\n"
     ]
    }
   ],
   "source": [
    "# View Schema\n",
    "textblob_data.printSchema()"
   ]
  },
  {
   "cell_type": "code",
   "execution_count": 15,
   "id": "ef86815a",
   "metadata": {},
   "outputs": [
    {
     "data": {
      "text/html": [
       "<div>\n",
       "<style scoped>\n",
       "    .dataframe tbody tr th:only-of-type {\n",
       "        vertical-align: middle;\n",
       "    }\n",
       "\n",
       "    .dataframe tbody tr th {\n",
       "        vertical-align: top;\n",
       "    }\n",
       "\n",
       "    .dataframe thead th {\n",
       "        text-align: right;\n",
       "    }\n",
       "</style>\n",
       "<table border=\"1\" class=\"dataframe\">\n",
       "  <thead>\n",
       "    <tr style=\"text-align: right;\">\n",
       "      <th></th>\n",
       "      <th>_c0</th>\n",
       "      <th>timestamp</th>\n",
       "      <th>textblob_score</th>\n",
       "      <th>textblob_category</th>\n",
       "      <th>cleaned_text</th>\n",
       "      <th>High</th>\n",
       "      <th>Low</th>\n",
       "      <th>Open</th>\n",
       "      <th>Close</th>\n",
       "      <th>Volume</th>\n",
       "      <th>Marketcap</th>\n",
       "    </tr>\n",
       "  </thead>\n",
       "  <tbody>\n",
       "    <tr>\n",
       "      <th>0</th>\n",
       "      <td>0</td>\n",
       "      <td>2019-05-27</td>\n",
       "      <td>0.0</td>\n",
       "      <td>neutral</td>\n",
       "      <td>another test tweet caught stream bitcoin</td>\n",
       "      <td>8907.174441</td>\n",
       "      <td>8668.70492</td>\n",
       "      <td>8674.072403</td>\n",
       "      <td>8805.778377</td>\n",
       "      <td>2.794984e+10</td>\n",
       "      <td>1.560938e+11</td>\n",
       "    </tr>\n",
       "    <tr>\n",
       "      <th>1</th>\n",
       "      <td>1</td>\n",
       "      <td>2019-05-27</td>\n",
       "      <td>0.0</td>\n",
       "      <td>neutral</td>\n",
       "      <td>current crypto prices btc usd eth usd ltc usd ...</td>\n",
       "      <td>8907.174441</td>\n",
       "      <td>8668.70492</td>\n",
       "      <td>8674.072403</td>\n",
       "      <td>8805.778377</td>\n",
       "      <td>2.794984e+10</td>\n",
       "      <td>1.560938e+11</td>\n",
       "    </tr>\n",
       "    <tr>\n",
       "      <th>2</th>\n",
       "      <td>2</td>\n",
       "      <td>2019-05-27</td>\n",
       "      <td>0.0</td>\n",
       "      <td>neutral</td>\n",
       "      <td>spiv nosar baz bitcoin is an asset amp not a c...</td>\n",
       "      <td>8907.174441</td>\n",
       "      <td>8668.70492</td>\n",
       "      <td>8674.072403</td>\n",
       "      <td>8805.778377</td>\n",
       "      <td>2.794984e+10</td>\n",
       "      <td>1.560938e+11</td>\n",
       "    </tr>\n",
       "    <tr>\n",
       "      <th>3</th>\n",
       "      <td>3</td>\n",
       "      <td>2019-05-27</td>\n",
       "      <td>-0.1</td>\n",
       "      <td>negative</td>\n",
       "      <td>we building real bitcoin sv what building brok...</td>\n",
       "      <td>8907.174441</td>\n",
       "      <td>8668.70492</td>\n",
       "      <td>8674.072403</td>\n",
       "      <td>8805.778377</td>\n",
       "      <td>2.794984e+10</td>\n",
       "      <td>1.560938e+11</td>\n",
       "    </tr>\n",
       "    <tr>\n",
       "      <th>4</th>\n",
       "      <td>4</td>\n",
       "      <td>2019-05-27</td>\n",
       "      <td>0.2</td>\n",
       "      <td>positive</td>\n",
       "      <td>change is coming get ready boom another cb jab...</td>\n",
       "      <td>8907.174441</td>\n",
       "      <td>8668.70492</td>\n",
       "      <td>8674.072403</td>\n",
       "      <td>8805.778377</td>\n",
       "      <td>2.794984e+10</td>\n",
       "      <td>1.560938e+11</td>\n",
       "    </tr>\n",
       "  </tbody>\n",
       "</table>\n",
       "</div>"
      ],
      "text/plain": [
       "   _c0   timestamp  textblob_score textblob_category  \\\n",
       "0    0  2019-05-27             0.0           neutral   \n",
       "1    1  2019-05-27             0.0           neutral   \n",
       "2    2  2019-05-27             0.0           neutral   \n",
       "3    3  2019-05-27            -0.1          negative   \n",
       "4    4  2019-05-27             0.2          positive   \n",
       "\n",
       "                                        cleaned_text         High         Low  \\\n",
       "0           another test tweet caught stream bitcoin  8907.174441  8668.70492   \n",
       "1  current crypto prices btc usd eth usd ltc usd ...  8907.174441  8668.70492   \n",
       "2  spiv nosar baz bitcoin is an asset amp not a c...  8907.174441  8668.70492   \n",
       "3  we building real bitcoin sv what building brok...  8907.174441  8668.70492   \n",
       "4  change is coming get ready boom another cb jab...  8907.174441  8668.70492   \n",
       "\n",
       "          Open        Close        Volume     Marketcap  \n",
       "0  8674.072403  8805.778377  2.794984e+10  1.560938e+11  \n",
       "1  8674.072403  8805.778377  2.794984e+10  1.560938e+11  \n",
       "2  8674.072403  8805.778377  2.794984e+10  1.560938e+11  \n",
       "3  8674.072403  8805.778377  2.794984e+10  1.560938e+11  \n",
       "4  8674.072403  8805.778377  2.794984e+10  1.560938e+11  "
      ]
     },
     "execution_count": 15,
     "metadata": {},
     "output_type": "execute_result"
    }
   ],
   "source": [
    "# Preview Dataframe (Pandas Preview is Cleaner)\n",
    "textblob_data.limit(5).toPandas()"
   ]
  },
  {
   "cell_type": "code",
   "execution_count": 86,
   "id": "e5bfcda4",
   "metadata": {},
   "outputs": [
    {
     "data": {
      "text/plain": [
       "52652"
      ]
     },
     "execution_count": 86,
     "metadata": {},
     "output_type": "execute_result"
    }
   ],
   "source": [
    "textblob_data.count()"
   ]
  },
  {
   "cell_type": "code",
   "execution_count": 153,
   "id": "27153b10",
   "metadata": {},
   "outputs": [],
   "source": [
    "# Drop Unnessary Features (Day and Month)\n",
    "textblob_data = textblob_data.drop('_c0')"
   ]
  },
  {
   "cell_type": "code",
   "execution_count": 155,
   "id": "5f0dd0c6",
   "metadata": {},
   "outputs": [],
   "source": [
    "#pipeline the word embedding\n",
    "\n",
    "# tokenize the sentence to get words\n",
    "tokenizer = Tokenizer(inputCol=\"cleaned_eng_text\", outputCol=\"words\")\n",
    "\n",
    "# word2vec word embedding\n",
    "word2Vec = Word2Vec(vectorSize = 100, minCount=1, inputCol=\"words\", outputCol=\"feature\")\n",
    "\n",
    "pipeline = Pipeline(stages=[tokenizer, word2Vec])"
   ]
  },
  {
   "cell_type": "code",
   "execution_count": 156,
   "id": "e087d53d",
   "metadata": {},
   "outputs": [],
   "source": [
    "model = pipeline.fit(textblob_data)\n",
    "result = model.transform(textblob_data)"
   ]
  },
  {
   "cell_type": "code",
   "execution_count": 157,
   "id": "2f8f4b0c",
   "metadata": {},
   "outputs": [
    {
     "name": "stdout",
     "output_type": "stream",
     "text": [
      "root\n",
      " |-- timestamp: string (nullable = true)\n",
      " |-- textblob_score: double (nullable = true)\n",
      " |-- textblob_category: string (nullable = true)\n",
      " |-- cleaned_eng_text: string (nullable = true)\n",
      " |-- High: double (nullable = true)\n",
      " |-- Low: double (nullable = true)\n",
      " |-- Open: double (nullable = true)\n",
      " |-- Close: double (nullable = true)\n",
      " |-- Volume: double (nullable = true)\n",
      " |-- Marketcap: double (nullable = true)\n",
      " |-- High_pre: double (nullable = true)\n",
      " |-- Low_pre: double (nullable = true)\n",
      " |-- Open_pre: double (nullable = true)\n",
      " |-- Close_pre: double (nullable = true)\n",
      " |-- Volume_pre: double (nullable = true)\n",
      " |-- Marketcap_pre: double (nullable = true)\n",
      " |-- words: array (nullable = true)\n",
      " |    |-- element: string (containsNull = true)\n",
      " |-- feature: vector (nullable = true)\n",
      "\n"
     ]
    }
   ],
   "source": [
    "result.printSchema()"
   ]
  },
  {
   "cell_type": "code",
   "execution_count": 108,
   "id": "aca61179",
   "metadata": {},
   "outputs": [],
   "source": [
    "score_features = ['High_pre', 'Low_pre', 'Open_pre', 'Close_pre', 'Volume_pre', 'Marketcap_pre', 'textblob_score']\n",
    "text_features = ['High_pre', 'Low_pre', 'Open_pre', 'Close_pre', 'Volume_pre', 'Marketcap_pre', 'feature']"
   ]
  },
  {
   "cell_type": "code",
   "execution_count": 119,
   "id": "ddc3ce09",
   "metadata": {},
   "outputs": [
    {
     "name": "stdout",
     "output_type": "stream",
     "text": [
      "There are 36853 training examples and 15799 test examples.\n"
     ]
    }
   ],
   "source": [
    "# Split the dataset randomly into 70% for training and 30% for testing. Passing a seed for deterministic behavior\n",
    "train1, test1 = score_lr_data.randomSplit([0.7, 0.3], seed = 1234)\n",
    "print(\"There are %d training examples and %d test examples.\" % (train1.count(), test1.count()))"
   ]
  },
  {
   "cell_type": "code",
   "execution_count": 120,
   "id": "51987ab5",
   "metadata": {},
   "outputs": [
    {
     "name": "stdout",
     "output_type": "stream",
     "text": [
      "+--------------------+-----------------+\n",
      "|            features|            Close|\n",
      "+--------------------+-----------------+\n",
      "|[8687.52079924,79...|8805.778376600001|\n",
      "|[8687.52079924,79...|8805.778376600001|\n",
      "|[8687.52079924,79...|8805.778376600001|\n",
      "+--------------------+-----------------+\n",
      "only showing top 3 rows\n",
      "\n"
     ]
    }
   ],
   "source": [
    "vectorAssembler1 = VectorAssembler(inputCols = score_features, outputCol = 'features')\n",
    "score_lr_df = vectorAssembler1.transform(result)\n",
    "score_lr_df = score_lr_df.select(['features', 'Close'])\n",
    "score_lr_df.show(3)"
   ]
  },
  {
   "cell_type": "code",
   "execution_count": 122,
   "id": "bf8cfd2e",
   "metadata": {},
   "outputs": [],
   "source": [
    "splits1 = score_lr_df.randomSplit([0.7, 0.3], seed = 1234)\n",
    "train_score_lr_df = splits1[0]\n",
    "test_score_lr_df = splits1[1]"
   ]
  },
  {
   "cell_type": "code",
   "execution_count": 123,
   "id": "142b5930",
   "metadata": {},
   "outputs": [
    {
     "name": "stdout",
     "output_type": "stream",
     "text": [
      "Coefficients: [0.15476622014734134,0.5303207617312827,0.49600687324413983,-0.07439739895179205,7.924133813753182e-08,-5.243269042880468e-09,4.720183709655843]\n",
      "Intercept: -845.1784893131276\n"
     ]
    }
   ],
   "source": [
    "# linear model using sentiment score\n",
    "lr1 = LinearRegression(featuresCol = 'features', labelCol='Close', maxIter=10, regParam=0.3, elasticNetParam=0.8)\n",
    "lr_model1 = lr1.fit(train_score_lr_df)\n",
    "print(\"Coefficients: \" + str(lr_model1.coefficients))\n",
    "print(\"Intercept: \" + str(lr_model1.intercept))"
   ]
  },
  {
   "cell_type": "code",
   "execution_count": 124,
   "id": "8645dc61",
   "metadata": {},
   "outputs": [
    {
     "name": "stdout",
     "output_type": "stream",
     "text": [
      "RMSE: 254.847128\n",
      "r2: 0.807795\n"
     ]
    }
   ],
   "source": [
    "trainingSummary1 = lr_model1.summary\n",
    "print(\"RMSE: %f\" % trainingSummary1.rootMeanSquaredError)\n",
    "print(\"r2: %f\" % trainingSummary1.r2)"
   ]
  },
  {
   "cell_type": "code",
   "execution_count": 126,
   "id": "4782f47d",
   "metadata": {},
   "outputs": [
    {
     "name": "stdout",
     "output_type": "stream",
     "text": [
      "+-------------------+------------------+--------------------+\n",
      "|         prediction|             Close|            features|\n",
      "+-------------------+------------------+--------------------+\n",
      "| -728.6287785951586|108.99400329589844|[113.245002746582...|\n",
      "| -611.7609249104727|257.32101440429693|[240.259002685546...|\n",
      "|-255.71305683399896|     594.916015625|[586.234985351562...|\n",
      "|   3077.69176764182|3413.7677182999996|[3478.14811641,34...|\n",
      "|   3085.07009313032|     3521.06078726|[3501.95413455,34...|\n",
      "+-------------------+------------------+--------------------+\n",
      "only showing top 5 rows\n",
      "\n",
      "R Squared (R2) on test data = 0.795829\n"
     ]
    }
   ],
   "source": [
    "lr_predictions1 = lr_model1.transform(test_score_lr_df)\n",
    "lr_predictions1.select(\"prediction\",\"Close\",\"features\").show(5)\n",
    "\n",
    "lr_evaluator1 = RegressionEvaluator(predictionCol=\"prediction\", labelCol=\"Close\",metricName=\"r2\")\n",
    "print(\"R Squared (R2) on test data = %g\" % lr_evaluator1.evaluate(lr_predictions1))"
   ]
  },
  {
   "cell_type": "code",
   "execution_count": 127,
   "id": "f03a88e3",
   "metadata": {},
   "outputs": [
    {
     "name": "stdout",
     "output_type": "stream",
     "text": [
      "Root Mean Squared Error (RMSE) on test data = 257.676\n"
     ]
    }
   ],
   "source": [
    "test_score_lr_result = lr_model1.evaluate(test_score_lr_df)\n",
    "print(\"Root Mean Squared Error (RMSE) on test data = %g\" % test_score_lr_result.rootMeanSquaredError)"
   ]
  },
  {
   "cell_type": "code",
   "execution_count": null,
   "id": "01882fd3",
   "metadata": {},
   "outputs": [],
   "source": [
    "lr_evaluator2 = RegressionEvaluator(predictionCol=\"prediction\", labelCol=\"Close\",metricName=\"mae\")\n",
    "print(\"MAE on test data = %g\" % lr_evaluator2.evaluate(lr_predictions1))"
   ]
  },
  {
   "cell_type": "code",
   "execution_count": null,
   "id": "a33297e8",
   "metadata": {},
   "outputs": [],
   "source": []
  },
  {
   "cell_type": "code",
   "execution_count": 129,
   "id": "b661aabd",
   "metadata": {},
   "outputs": [
    {
     "name": "stdout",
     "output_type": "stream",
     "text": [
      "+-----------------+------------------+--------------------+\n",
      "|       prediction|             Close|            features|\n",
      "+-----------------+------------------+--------------------+\n",
      "|5226.917884376136|108.99400329589844|[113.245002746582...|\n",
      "|5087.323810970841|257.32101440429693|[240.259002685546...|\n",
      "|5087.323810970841|     594.916015625|[586.234985351562...|\n",
      "|5158.948128214426|3413.7677182999996|[3478.14811641,34...|\n",
      "|5158.948128214426|     3521.06078726|[3501.95413455,34...|\n",
      "+-----------------+------------------+--------------------+\n",
      "only showing top 5 rows\n",
      "\n"
     ]
    }
   ],
   "source": [
    "# gradient boosting using sentiment score\n",
    "gbt1 = GBTRegressor(featuresCol = 'features', labelCol = 'Close', maxIter=10)\n",
    "gbt_model1 = gbt1.fit(train_score_lr_df)\n",
    "gbt_predictions1 = gbt_model1.transform(test_score_lr_df)\n",
    "gbt_predictions1.select('prediction', 'Close', 'features').show(5)"
   ]
  },
  {
   "cell_type": "code",
   "execution_count": 130,
   "id": "4c9a50b5",
   "metadata": {},
   "outputs": [
    {
     "name": "stdout",
     "output_type": "stream",
     "text": [
      "Root Mean Squared Error (RMSE) on test data = 148.237\n"
     ]
    }
   ],
   "source": [
    "gbt_evaluator1 = RegressionEvaluator(labelCol=\"Close\", predictionCol=\"prediction\", metricName=\"rmse\")\n",
    "rmse1 = gbt_evaluator1.evaluate(gbt_predictions1)\n",
    "print(\"Root Mean Squared Error (RMSE) on test data = %g\" % rmse1)"
   ]
  },
  {
   "cell_type": "code",
   "execution_count": null,
   "id": "79d501a1",
   "metadata": {},
   "outputs": [],
   "source": [
    "gbt_evaluator2 = RegressionEvaluator(labelCol=\"Close\", predictionCol=\"prediction\", metricName=\"mae\")\n",
    "mae1 = gbt_evaluator2.evaluate(gbt_predictions1)\n",
    "print(\"MAE on test data = %g\" % mae1)"
   ]
  },
  {
   "cell_type": "code",
   "execution_count": null,
   "id": "898966c0",
   "metadata": {},
   "outputs": [],
   "source": [
    "gbt_evaluator3 = RegressionEvaluator(labelCol=\"Close\", predictionCol=\"prediction\", metricName=\"r2\")\n",
    "r21 = gbt_evaluator3.evaluate(gbt_predictions1)\n",
    "print(\"R Square on test data = %g\" % r21)"
   ]
  },
  {
   "cell_type": "code",
   "execution_count": null,
   "id": "df837aff",
   "metadata": {},
   "outputs": [],
   "source": []
  },
  {
   "cell_type": "code",
   "execution_count": null,
   "id": "e97867a9",
   "metadata": {},
   "outputs": [],
   "source": []
  },
  {
   "cell_type": "code",
   "execution_count": null,
   "id": "6cd38c88",
   "metadata": {},
   "outputs": [],
   "source": []
  },
  {
   "cell_type": "code",
   "execution_count": 136,
   "id": "acb9cb0b",
   "metadata": {},
   "outputs": [
    {
     "name": "stdout",
     "output_type": "stream",
     "text": [
      "+--------------------+-----------------+\n",
      "|            features|            Close|\n",
      "+--------------------+-----------------+\n",
      "|[8687.52079924,79...|8805.778376600001|\n",
      "|[8687.52079924,79...|8805.778376600001|\n",
      "|[8687.52079924,79...|8805.778376600001|\n",
      "+--------------------+-----------------+\n",
      "only showing top 3 rows\n",
      "\n"
     ]
    }
   ],
   "source": [
    "vectorAssembler2 = VectorAssembler(inputCols = text_features, outputCol = 'features')\n",
    "text_lr_df = vectorAssembler2.transform(result)\n",
    "text_lr_df = text_lr_df.select(['features', 'Close'])\n",
    "text_lr_df.show(3)"
   ]
  },
  {
   "cell_type": "code",
   "execution_count": 137,
   "id": "b26a6809",
   "metadata": {},
   "outputs": [],
   "source": [
    "splits2 = text_lr_df.randomSplit([0.7, 0.3], seed = 1234)\n",
    "train_text_lr_df = splits2[0]\n",
    "test_text_lr_df = splits2[1]"
   ]
  },
  {
   "cell_type": "code",
   "execution_count": 139,
   "id": "02b5df5d",
   "metadata": {},
   "outputs": [],
   "source": [
    "lr2 = LinearRegression(featuresCol = 'features', labelCol='Close', maxIter=10, regParam=0.3, elasticNetParam=0.8)\n",
    "lr_model2 = lr2.fit(train_text_lr_df)"
   ]
  },
  {
   "cell_type": "code",
   "execution_count": 140,
   "id": "170e75c1",
   "metadata": {},
   "outputs": [
    {
     "name": "stdout",
     "output_type": "stream",
     "text": [
      "RMSE: 259.725498\n",
      "r2: 0.800366\n"
     ]
    }
   ],
   "source": [
    "trainingSummary2 = lr_model2.summary\n",
    "print(\"RMSE: %f\" % trainingSummary2.rootMeanSquaredError)\n",
    "print(\"r2: %f\" % trainingSummary2.r2)"
   ]
  },
  {
   "cell_type": "code",
   "execution_count": 142,
   "id": "37c49419",
   "metadata": {},
   "outputs": [
    {
     "name": "stdout",
     "output_type": "stream",
     "text": [
      "+-------------------+------------------+--------------------+\n",
      "|         prediction|             Close|            features|\n",
      "+-------------------+------------------+--------------------+\n",
      "| -900.3987966208587|108.99400329589844|[113.245002746582...|\n",
      "| -705.7609811483867|257.32101440429693|[240.259002685546...|\n",
      "|-404.53777180987413|     594.916015625|[586.234985351562...|\n",
      "| 2989.6676733029085|3413.7677182999996|[3478.14811641,34...|\n",
      "| 3036.3718617219884|     3521.06078726|[3501.95413455,34...|\n",
      "+-------------------+------------------+--------------------+\n",
      "only showing top 5 rows\n",
      "\n",
      "R Squared (R2) on test data = 0.787573\n"
     ]
    }
   ],
   "source": [
    "lr_predictions2 = lr_model2.transform(test_text_lr_df)\n",
    "lr_predictions2.select(\"prediction\",\"Close\",\"features\").show(5)\n",
    "\n",
    "lr_evaluator3 = RegressionEvaluator(predictionCol=\"prediction\", labelCol=\"Close\",metricName=\"r2\")\n",
    "print(\"R Squared (R2) on test data = %g\" % lr_evaluator3.evaluate(lr_predictions2))"
   ]
  },
  {
   "cell_type": "code",
   "execution_count": 143,
   "id": "04306a5f",
   "metadata": {},
   "outputs": [
    {
     "name": "stdout",
     "output_type": "stream",
     "text": [
      "Root Mean Squared Error (RMSE) on test data = 262.834\n"
     ]
    }
   ],
   "source": [
    "test_text_lr_result = lr_model2.evaluate(test_text_lr_df)\n",
    "print(\"Root Mean Squared Error (RMSE) on test data = %g\" % test_text_lr_result.rootMeanSquaredError)"
   ]
  },
  {
   "cell_type": "code",
   "execution_count": 144,
   "id": "bf78f326",
   "metadata": {},
   "outputs": [
    {
     "name": "stdout",
     "output_type": "stream",
     "text": [
      "R Squared (R2) on test data = 223.77\n"
     ]
    }
   ],
   "source": [
    "lr_evaluator4 = RegressionEvaluator(predictionCol=\"prediction\", labelCol=\"Close\",metricName=\"mae\")\n",
    "print(\"R Squared (R2) on test data = %g\" % lr_evaluator4.evaluate(lr_predictions2))"
   ]
  },
  {
   "cell_type": "code",
   "execution_count": null,
   "id": "7d8e07ae",
   "metadata": {},
   "outputs": [],
   "source": []
  },
  {
   "cell_type": "code",
   "execution_count": null,
   "id": "42853371",
   "metadata": {},
   "outputs": [],
   "source": []
  },
  {
   "cell_type": "code",
   "execution_count": null,
   "id": "783613aa",
   "metadata": {},
   "outputs": [],
   "source": []
  },
  {
   "cell_type": "code",
   "execution_count": 145,
   "id": "c2f46f59",
   "metadata": {},
   "outputs": [
    {
     "name": "stdout",
     "output_type": "stream",
     "text": [
      "+-----------------+------------------+--------------------+\n",
      "|       prediction|             Close|            features|\n",
      "+-----------------+------------------+--------------------+\n",
      "|5367.287915364713|108.99400329589844|[113.245002746582...|\n",
      "|4992.690272769945|257.32101440429693|[240.259002685546...|\n",
      "|4281.569510292039|     594.916015625|[586.234985351562...|\n",
      "|5266.479161137053|3413.7677182999996|[3478.14811641,34...|\n",
      "|5204.299533460629|     3521.06078726|[3501.95413455,34...|\n",
      "+-----------------+------------------+--------------------+\n",
      "only showing top 5 rows\n",
      "\n"
     ]
    }
   ],
   "source": [
    "gbt2 = GBTRegressor(featuresCol = 'features', labelCol = 'Close', maxIter=10)\n",
    "gbt_model2 = gbt2.fit(train_text_lr_df)\n",
    "gbt_predictions2 = gbt_model2.transform(test_text_lr_df)\n",
    "gbt_predictions2.select('prediction', 'Close', 'features').show(5)"
   ]
  },
  {
   "cell_type": "code",
   "execution_count": 146,
   "id": "7ed67ca8",
   "metadata": {},
   "outputs": [
    {
     "name": "stdout",
     "output_type": "stream",
     "text": [
      "Root Mean Squared Error (RMSE) on test data = 155.41\n"
     ]
    }
   ],
   "source": [
    "gbt_evaluator4 = RegressionEvaluator(labelCol=\"Close\", predictionCol=\"prediction\", metricName=\"rmse\")\n",
    "rmse2 = gbt_evaluator4.evaluate(gbt_predictions2)\n",
    "print(\"Root Mean Squared Error (RMSE) on test data = %g\" % rmse2)"
   ]
  },
  {
   "cell_type": "code",
   "execution_count": 147,
   "id": "c7e0c32d",
   "metadata": {},
   "outputs": [
    {
     "name": "stdout",
     "output_type": "stream",
     "text": [
      "Root Mean Squared Error (RMSE) on test data = 14.5282\n"
     ]
    }
   ],
   "source": [
    "gbt_evaluator5 = RegressionEvaluator(labelCol=\"Close\", predictionCol=\"prediction\", metricName=\"mae\")\n",
    "mae2 = gbt_evaluator5.evaluate(gbt_predictions2)\n",
    "print(\"Root Mean Squared Error (RMSE) on test data = %g\" % mae2)"
   ]
  },
  {
   "cell_type": "code",
   "execution_count": 148,
   "id": "65448aae",
   "metadata": {},
   "outputs": [
    {
     "name": "stdout",
     "output_type": "stream",
     "text": [
      "Root Mean Squared Error (RMSE) on test data = 0.925732\n"
     ]
    }
   ],
   "source": [
    "gbt_evaluator6 = RegressionEvaluator(labelCol=\"Close\", predictionCol=\"prediction\", metricName=\"r2\")\n",
    "r22 = gbt_evaluator6.evaluate(gbt_predictions2)\n",
    "print(\"Root Mean Squared Error (RMSE) on test data = %g\" % r22)"
   ]
  },
  {
   "cell_type": "code",
   "execution_count": null,
   "id": "d5918207",
   "metadata": {},
   "outputs": [],
   "source": []
  },
  {
   "cell_type": "code",
   "execution_count": 158,
   "id": "722e11be",
   "metadata": {},
   "outputs": [
    {
     "name": "stdout",
     "output_type": "stream",
     "text": [
      "root\n",
      " |-- timestamp: string (nullable = true)\n",
      " |-- textblob_score: double (nullable = true)\n",
      " |-- textblob_category: string (nullable = true)\n",
      " |-- cleaned_eng_text: string (nullable = true)\n",
      " |-- High: double (nullable = true)\n",
      " |-- Low: double (nullable = true)\n",
      " |-- Open: double (nullable = true)\n",
      " |-- Close: double (nullable = true)\n",
      " |-- Volume: double (nullable = true)\n",
      " |-- Marketcap: double (nullable = true)\n",
      " |-- High_pre: double (nullable = true)\n",
      " |-- Low_pre: double (nullable = true)\n",
      " |-- Open_pre: double (nullable = true)\n",
      " |-- Close_pre: double (nullable = true)\n",
      " |-- Volume_pre: double (nullable = true)\n",
      " |-- Marketcap_pre: double (nullable = true)\n",
      " |-- words: array (nullable = true)\n",
      " |    |-- element: string (containsNull = true)\n",
      " |-- feature: vector (nullable = true)\n",
      "\n"
     ]
    }
   ],
   "source": [
    "result.printSchema()"
   ]
  },
  {
   "cell_type": "code",
   "execution_count": 160,
   "id": "e8cc5fe1",
   "metadata": {},
   "outputs": [],
   "source": [
    "rnn_data = result.select(['timestamp', 'textblob_score', 'High', 'Low', 'Open', 'Close', 'Volume', 'Marketcap', 'feature'])"
   ]
  },
  {
   "cell_type": "code",
   "execution_count": 170,
   "id": "bce64c54",
   "metadata": {},
   "outputs": [],
   "source": [
    "rnn_lstm_data = rnn_data.groupBy(\"timestamp\") \\\n",
    "    .avg('textblob_score', 'High', 'Low', 'Open', 'Close', 'Volume', 'Marketcap')\\\n",
    "    .withColumnRenamed(\"avg(textblob_score)\",\"textblob_score\")\\\n",
    "    .withColumnRenamed(\"avg(High)\",\"High\")\\\n",
    "    .withColumnRenamed(\"avg(Low)\",\"Low\")\\\n",
    "    .withColumnRenamed(\"avg(Open)\",\"Open\")\\\n",
    "    .withColumnRenamed(\"avg(Close)\",\"Close\")\\\n",
    "    .withColumnRenamed(\"avg(Volume)\",\"Volume\")\\\n",
    "    .withColumnRenamed(\"avg(Marketcap)\",\"Marketcap\")"
   ]
  },
  {
   "cell_type": "code",
   "execution_count": 174,
   "id": "a85cbb16",
   "metadata": {},
   "outputs": [],
   "source": [
    "rnn_lstm_data.repartition(1).write.option(\"header\", \"true\").csv('/Users/lincong/Downloads/lstm_data.csv')"
   ]
  },
  {
   "cell_type": "code",
   "execution_count": null,
   "id": "56ee7191",
   "metadata": {},
   "outputs": [],
   "source": []
  },
  {
   "cell_type": "code",
   "execution_count": null,
   "id": "aef21f85",
   "metadata": {},
   "outputs": [],
   "source": []
  },
  {
   "cell_type": "code",
   "execution_count": null,
   "id": "e456ab07",
   "metadata": {},
   "outputs": [],
   "source": []
  }
 ],
 "metadata": {
  "kernelspec": {
   "display_name": "Python 3",
   "language": "python",
   "name": "python3"
  },
  "language_info": {
   "codemirror_mode": {
    "name": "ipython",
    "version": 3
   },
   "file_extension": ".py",
   "mimetype": "text/x-python",
   "name": "python",
   "nbconvert_exporter": "python",
   "pygments_lexer": "ipython3",
   "version": "3.6.13"
  }
 },
 "nbformat": 4,
 "nbformat_minor": 5
}
