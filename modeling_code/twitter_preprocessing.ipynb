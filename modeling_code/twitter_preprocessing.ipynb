{
 "cells": [
  {
   "cell_type": "code",
   "execution_count": 1,
   "id": "122c1fd3",
   "metadata": {},
   "outputs": [],
   "source": [
    "import numpy as np\n",
    "import pandas as pd\n",
    "import re\n",
    "import nltk"
   ]
  },
  {
   "cell_type": "code",
   "execution_count": 33,
   "id": "87f205bd",
   "metadata": {},
   "outputs": [],
   "source": [
    "def clean_str(s):\n",
    "    s = re.sub(r\"http\\S+\", \"\", s)\n",
    "    s = re.sub(r\"#(\\w+)\", ' ', s, flags=re.MULTILINE) \n",
    "    s = re.sub(r\"@(\\w+)\", ' ', s, flags=re.MULTILINE)\n",
    "    s = re.sub(r\"&amp\", \" \", s)\n",
    "    s = re.sub(r\"[^A-Za-z0-9:(),!?\\'\\`]\", \" \", s)\n",
    "    s = re.sub(\"\\d+\", \" \", s)\n",
    "    s = re.sub(r\"[^\\w\\s]\", \"\", s)\n",
    "    s = re.sub(r\"\\'s\", \" \", s)\n",
    "    s = re.sub(r\"\\'m\", \" am\", s)\n",
    "    s = re.sub(r\"\\'ve\", \" have\", s)\n",
    "    s = re.sub(r\"n\\'t\", \" not\", s)\n",
    "    s = re.sub(r\"\\'re\", \" are\", s)\n",
    "    s = re.sub(r\"\\'d\", \" \", s)\n",
    "    s = re.sub(r\"\\'ll\", \" will\", s)\n",
    "    s = re.sub(r\"\\(\", \" \", s)\n",
    "    s = re.sub(r\"\\)\", \" \", s)\n",
    "    return s"
   ]
  },
  {
   "cell_type": "code",
   "execution_count": 2,
   "id": "323c1808",
   "metadata": {},
   "outputs": [],
   "source": [
    "owndata = pd.read_csv('/Users/lincong/Downloads/CS-226-Twitter-Bitcoin-Tweet-Sentimental-Analysis/new_preprocessed_tweets.csv')"
   ]
  },
  {
   "cell_type": "code",
   "execution_count": 4,
   "id": "36a723f7",
   "metadata": {},
   "outputs": [
    {
     "data": {
      "text/plain": [
       "'2019-05-27 12:21:50+00'"
      ]
     },
     "execution_count": 4,
     "metadata": {},
     "output_type": "execute_result"
    }
   ],
   "source": [
    "owndata['timestamp'].max()"
   ]
  },
  {
   "cell_type": "code",
   "execution_count": 5,
   "id": "5be7ee3d",
   "metadata": {},
   "outputs": [
    {
     "data": {
      "text/plain": [
       "'2009-01-11 03:33:52+00'"
      ]
     },
     "execution_count": 5,
     "metadata": {},
     "output_type": "execute_result"
    }
   ],
   "source": [
    "owndata['timestamp'].min()"
   ]
  },
  {
   "cell_type": "code",
   "execution_count": 24,
   "id": "deb1ec57",
   "metadata": {},
   "outputs": [],
   "source": [
    "owndata.drop(['Unnamed: 0', 'text'], axis = 1, inplace = True)"
   ]
  },
  {
   "cell_type": "code",
   "execution_count": 43,
   "id": "4f4cc012",
   "metadata": {},
   "outputs": [],
   "source": [
    "#further clean the tweet text\n",
    "texts = []\n",
    "\n",
    "for idx in range(owndata.clean_text.shape[0]):\n",
    "    text = owndata.clean_text[idx]\n",
    "    cleaned_str = clean_str(text)\n",
    "    cleaned_str = ' '.join(cleaned_str.split())\n",
    "    texts.append(cleaned_str)"
   ]
  },
  {
   "cell_type": "code",
   "execution_count": 49,
   "id": "2943129f",
   "metadata": {},
   "outputs": [],
   "source": [
    "texts_df = pd.DataFrame(texts, columns=['cleaned_text'])\n",
    "cleaned_data = pd.concat([owndata, texts_df], axis = 1).drop(['clean_text'], axis = 1)\n",
    "cleaned_data['timestamp'] = pd.to_datetime(cleaned_data['timestamp']).dt.date"
   ]
  },
  {
   "cell_type": "code",
   "execution_count": 70,
   "id": "306f3f6c",
   "metadata": {},
   "outputs": [
    {
     "name": "stdout",
     "output_type": "stream",
     "text": [
      "showing info https://raw.githubusercontent.com/nltk/nltk_data/gh-pages/index.xml\n"
     ]
    },
    {
     "data": {
      "text/plain": [
       "True"
      ]
     },
     "execution_count": 70,
     "metadata": {},
     "output_type": "execute_result"
    }
   ],
   "source": [
    "nltk.download()"
   ]
  },
  {
   "cell_type": "code",
   "execution_count": 71,
   "id": "20cd4241",
   "metadata": {},
   "outputs": [],
   "source": [
    "words = set(nltk.corpus.words.words())"
   ]
  },
  {
   "cell_type": "code",
   "execution_count": 77,
   "id": "3656d168",
   "metadata": {},
   "outputs": [],
   "source": [
    "# keep only english words\n",
    "texts_eng = []\n",
    "\n",
    "for idx in range(cleaned_data.cleaned_text.shape[0]):\n",
    "    text = cleaned_data.cleaned_text[idx]\n",
    "    cleaned_str = \" \".join(w for w in nltk.wordpunct_tokenize(text) \\\n",
    "                           if w.lower() in words or not w.isalpha())\n",
    "    texts_eng.append(cleaned_str)"
   ]
  },
  {
   "cell_type": "code",
   "execution_count": 79,
   "id": "33ba9b63",
   "metadata": {},
   "outputs": [],
   "source": [
    "texts_eng_df = pd.DataFrame(texts_eng, columns=['cleaned_eng_text'])\n",
    "cleaned_eng_data = pd.concat([cleaned_data, texts_eng_df], axis = 1).drop(['cleaned_text'], axis = 1)"
   ]
  },
  {
   "cell_type": "code",
   "execution_count": null,
   "id": "9cf07ac1",
   "metadata": {},
   "outputs": [],
   "source": []
  },
  {
   "cell_type": "code",
   "execution_count": 7,
   "id": "ab29ac78",
   "metadata": {},
   "outputs": [],
   "source": [
    "# collect the bitcoin previous data \n",
    "btcdata = pd.read_csv('/Users/lincong/Downloads/coin_Bitcoin.csv')\n",
    "btcdata['Date'] = pd.to_datetime(btcdata['Date'])  \n",
    "mask = (btcdata['Date'] > '2009-1-10') & (btcdata['Date'] <= '2019-5-28')\n",
    "btc_to_combine = btcdata.loc[mask]"
   ]
  },
  {
   "cell_type": "code",
   "execution_count": 18,
   "id": "a311da75",
   "metadata": {},
   "outputs": [
    {
     "name": "stderr",
     "output_type": "stream",
     "text": [
      "/Users/lincong/opt/anaconda3/lib/python3.6/site-packages/pandas/core/frame.py:4170: SettingWithCopyWarning: \n",
      "A value is trying to be set on a copy of a slice from a DataFrame\n",
      "\n",
      "See the caveats in the documentation: https://pandas.pydata.org/pandas-docs/stable/user_guide/indexing.html#returning-a-view-versus-a-copy\n",
      "  errors=errors,\n"
     ]
    }
   ],
   "source": [
    "btc_to_combine.drop(['SNo', 'Name', 'Symbol'], axis = 1, inplace = True)\n",
    "btc_to_combine['Date'] = pd.to_datetime(btc_to_combine['Date']).dt.date"
   ]
  },
  {
   "cell_type": "code",
   "execution_count": 118,
   "id": "8c1b2670",
   "metadata": {},
   "outputs": [],
   "source": [
    "# shift to get the previous day features\n",
    "one_time_lag = btc_to_combine.shift(1)"
   ]
  },
  {
   "cell_type": "code",
   "execution_count": 119,
   "id": "7f81a2e2",
   "metadata": {},
   "outputs": [],
   "source": [
    "one_time_lag.columns = one_time_lag.columns + '_pre'"
   ]
  },
  {
   "cell_type": "code",
   "execution_count": 123,
   "id": "31fbebc0",
   "metadata": {},
   "outputs": [],
   "source": [
    "btc_to_combine_final = pd.concat([btc_to_combine, one_time_lag], axis = 1).dropna().drop('Date_pre', axis = 1)"
   ]
  },
  {
   "cell_type": "code",
   "execution_count": null,
   "id": "96ac112f",
   "metadata": {},
   "outputs": [],
   "source": []
  },
  {
   "cell_type": "code",
   "execution_count": 124,
   "id": "65342bfb",
   "metadata": {},
   "outputs": [],
   "source": [
    "# combine bitcoin preice data with the tweet text\n",
    "combined_data = pd.merge(cleaned_eng_data, btc_to_combine_final, how=\"left\", left_on='timestamp', right_on = 'Date')\n",
    "combined_data.drop(['Date'], axis = 1, inplace = True)"
   ]
  },
  {
   "cell_type": "code",
   "execution_count": 126,
   "id": "f2ddffd5",
   "metadata": {},
   "outputs": [
    {
     "data": {
      "text/plain": [
       "timestamp            0\n",
       "textblob_score       0\n",
       "textblob_category    0\n",
       "vader_score          0\n",
       "vader_category       0\n",
       "cleaned_eng_text     0\n",
       "High                 2\n",
       "Low                  2\n",
       "Open                 2\n",
       "Close                2\n",
       "Volume               2\n",
       "Marketcap            2\n",
       "High_pre             2\n",
       "Low_pre              2\n",
       "Open_pre             2\n",
       "Close_pre            2\n",
       "Volume_pre           2\n",
       "Marketcap_pre        2\n",
       "dtype: int64"
      ]
     },
     "execution_count": 126,
     "metadata": {},
     "output_type": "execute_result"
    }
   ],
   "source": [
    "# check the missingness\n",
    "combined_data.isna().sum()"
   ]
  },
  {
   "cell_type": "code",
   "execution_count": 129,
   "id": "82a0274c",
   "metadata": {},
   "outputs": [],
   "source": [
    "combined_data['cleaned_eng_text'].replace('', np.nan, inplace=True)"
   ]
  },
  {
   "cell_type": "code",
   "execution_count": 130,
   "id": "f78ffdcf",
   "metadata": {},
   "outputs": [],
   "source": [
    "complete_data = combined_data.dropna()"
   ]
  },
  {
   "cell_type": "code",
   "execution_count": 131,
   "id": "a18fc863",
   "metadata": {},
   "outputs": [],
   "source": [
    "complete_data = complete_data.reset_index()"
   ]
  },
  {
   "cell_type": "code",
   "execution_count": 133,
   "id": "3bb87b61",
   "metadata": {},
   "outputs": [],
   "source": [
    "complete_data.drop('index', axis=1, inplace = True)"
   ]
  },
  {
   "cell_type": "code",
   "execution_count": 136,
   "id": "20566236",
   "metadata": {},
   "outputs": [],
   "source": [
    "# use only textblob score and original tweet text for modeling\n",
    "textblob_data = complete_data.drop(['vader_score', 'vader_category'], axis = 1)"
   ]
  },
  {
   "cell_type": "code",
   "execution_count": 138,
   "id": "8efa59d1",
   "metadata": {},
   "outputs": [],
   "source": [
    "textblob_data.to_csv('/Users/lincong/Downloads/textblob_data.csv')"
   ]
  }
 ],
 "metadata": {
  "kernelspec": {
   "display_name": "Python 3",
   "language": "python",
   "name": "python3"
  },
  "language_info": {
   "codemirror_mode": {
    "name": "ipython",
    "version": 3
   },
   "file_extension": ".py",
   "mimetype": "text/x-python",
   "name": "python",
   "nbconvert_exporter": "python",
   "pygments_lexer": "ipython3",
   "version": "3.6.13"
  }
 },
 "nbformat": 4,
 "nbformat_minor": 5
}
