{
 "cells": [
  {
   "cell_type": "code",
   "execution_count": null,
   "metadata": {},
   "outputs": [],
   "source": [
    "#In this jupyter notebook, we aim to generate sentimental scores and categories with Kaggle dataset in order to be one of the features to predict the market of Bitcoin.\n",
    "\n",
    "#Step 1: We need to first import some useful packages such as TextBlob, Vader, Seaborn and Pandas\n",
    "##TextBlob and Vader are sentiment analyzers that we apply in our project\n",
    "##We use Pandas to read csv file\n",
    "##Seaborn can visualize our final result\n",
    "\n",
    "#Step 2: Before running the code, we need to first download both csv files that are preprocessed before which are \"preprocessed_tweets.csv\" and \"preprocessed_tweets_1000000.csv\".\n",
    "\n",
    "#Step 3: To run the code, press \"Kernel\" and select \"Restart & Run All\".\n",
    "\n",
    "#Step 4: We can successfully see the plots show in jupyter notebook and save the new csv \n"
   ]
  },
  {
   "cell_type": "code",
   "execution_count": 1,
   "metadata": {},
   "outputs": [
    {
     "data": {
      "text/html": [
       "<div>\n",
       "<style scoped>\n",
       "    .dataframe tbody tr th:only-of-type {\n",
       "        vertical-align: middle;\n",
       "    }\n",
       "\n",
       "    .dataframe tbody tr th {\n",
       "        vertical-align: top;\n",
       "    }\n",
       "\n",
       "    .dataframe thead th {\n",
       "        text-align: right;\n",
       "    }\n",
       "</style>\n",
       "<table border=\"1\" class=\"dataframe\">\n",
       "  <thead>\n",
       "    <tr style=\"text-align: right;\">\n",
       "      <th></th>\n",
       "      <th>timestamp</th>\n",
       "      <th>text</th>\n",
       "    </tr>\n",
       "  </thead>\n",
       "  <tbody>\n",
       "    <tr>\n",
       "      <th>0</th>\n",
       "      <td>2019-05-27 11:49:06+00</td>\n",
       "      <td>Another Test tweet caught stream bitcoin</td>\n",
       "    </tr>\n",
       "    <tr>\n",
       "      <th>1</th>\n",
       "      <td>2019-05-27 11:49:22+00</td>\n",
       "      <td>Current Crypto Prices BTC 8721 99 USD ETH 266 ...</td>\n",
       "    </tr>\n",
       "  </tbody>\n",
       "</table>\n",
       "</div>"
      ],
      "text/plain": [
       "                timestamp                                               text\n",
       "0  2019-05-27 11:49:06+00           Another Test tweet caught stream bitcoin\n",
       "1  2019-05-27 11:49:22+00  Current Crypto Prices BTC 8721 99 USD ETH 266 ..."
      ]
     },
     "execution_count": 1,
     "metadata": {},
     "output_type": "execute_result"
    }
   ],
   "source": [
    "##Import useful packages and read the dataset from Kaggle\n",
    "##We then use head(2) to show the front two tweets in the csv file\n",
    "\n",
    "# Sentiment Analysis\n",
    "from textblob import TextBlob\n",
    "from vaderSentiment.vaderSentiment import SentimentIntensityAnalyzer\n",
    "\n",
    "#Plot\n",
    "import seaborn as sns\n",
    "\n",
    "import pandas as pd\n",
    "\n",
    "#Data preparationpath\n",
    "tweets = pd.read_csv('preprocessed_tweets.csv', encoding = 'utf-8')\n",
    "#tweets = pd.read_csv('preprocessed_tweets_1000000.csv', encoding = 'utf-8')\n",
    "tweets.head(2)"
   ]
  },
  {
   "cell_type": "code",
   "execution_count": 2,
   "metadata": {},
   "outputs": [
    {
     "name": "stdout",
     "output_type": "stream",
     "text": [
      "<class 'pandas.core.frame.DataFrame'>\n",
      "RangeIndex: 58634 entries, 0 to 58633\n",
      "Data columns (total 2 columns):\n",
      " #   Column     Non-Null Count  Dtype \n",
      "---  ------     --------------  ----- \n",
      " 0   timestamp  58634 non-null  object\n",
      " 1   text       57654 non-null  object\n",
      "dtypes: object(2)\n",
      "memory usage: 916.3+ KB\n"
     ]
    }
   ],
   "source": [
    "##Showing the data types of different columns\n",
    "\n",
    "tweets.info()"
   ]
  },
  {
   "cell_type": "code",
   "execution_count": 3,
   "metadata": {},
   "outputs": [
    {
     "name": "stdout",
     "output_type": "stream",
     "text": [
      "<class 'pandas.core.frame.DataFrame'>\n",
      "Int64Index: 57654 entries, 0 to 58633\n",
      "Data columns (total 2 columns):\n",
      " #   Column     Non-Null Count  Dtype \n",
      "---  ------     --------------  ----- \n",
      " 0   timestamp  57654 non-null  object\n",
      " 1   text       57654 non-null  object\n",
      "dtypes: object(2)\n",
      "memory usage: 1.3+ MB\n"
     ]
    }
   ],
   "source": [
    "##Checking if there exists null calue, if yes, remove them to prevent from errors\n",
    "\n",
    "tweets['text'].isnull().sum()\n",
    "tweets = tweets.dropna()\n",
    "tweets.info()"
   ]
  },
  {
   "cell_type": "code",
   "execution_count": 4,
   "metadata": {},
   "outputs": [
    {
     "data": {
      "text/html": [
       "<div>\n",
       "<style scoped>\n",
       "    .dataframe tbody tr th:only-of-type {\n",
       "        vertical-align: middle;\n",
       "    }\n",
       "\n",
       "    .dataframe tbody tr th {\n",
       "        vertical-align: top;\n",
       "    }\n",
       "\n",
       "    .dataframe thead th {\n",
       "        text-align: right;\n",
       "    }\n",
       "</style>\n",
       "<table border=\"1\" class=\"dataframe\">\n",
       "  <thead>\n",
       "    <tr style=\"text-align: right;\">\n",
       "      <th></th>\n",
       "      <th>timestamp</th>\n",
       "      <th>text</th>\n",
       "      <th>clean_text</th>\n",
       "    </tr>\n",
       "  </thead>\n",
       "  <tbody>\n",
       "    <tr>\n",
       "      <th>0</th>\n",
       "      <td>2019-05-27 11:49:06+00</td>\n",
       "      <td>Another Test tweet caught stream bitcoin</td>\n",
       "      <td>another test tweet caught stream bitcoin</td>\n",
       "    </tr>\n",
       "    <tr>\n",
       "      <th>1</th>\n",
       "      <td>2019-05-27 11:49:22+00</td>\n",
       "      <td>Current Crypto Prices BTC 8721 99 USD ETH 266 ...</td>\n",
       "      <td>current crypto prices btc 8721 99 usd eth 266 ...</td>\n",
       "    </tr>\n",
       "  </tbody>\n",
       "</table>\n",
       "</div>"
      ],
      "text/plain": [
       "                timestamp                                               text  \\\n",
       "0  2019-05-27 11:49:06+00           Another Test tweet caught stream bitcoin   \n",
       "1  2019-05-27 11:49:22+00  Current Crypto Prices BTC 8721 99 USD ETH 266 ...   \n",
       "\n",
       "                                          clean_text  \n",
       "0           another test tweet caught stream bitcoin  \n",
       "1  current crypto prices btc 8721 99 usd eth 266 ...  "
      ]
     },
     "execution_count": 4,
     "metadata": {},
     "output_type": "execute_result"
    }
   ],
   "source": [
    "#convert to lower case\n",
    "tweets['clean_text'] = tweets['text'].str.lower()\n",
    "\n",
    "#delete unnecessary columns\n",
    "#del tweets['timestamp']\n",
    "\n",
    "tweets.head(2)"
   ]
  },
  {
   "cell_type": "code",
   "execution_count": 5,
   "metadata": {},
   "outputs": [],
   "source": [
    "##Start running textblob analyzer and categorizing them with pos, neg, and neu\n",
    "\n",
    "score = []\n",
    "for text in tweets['clean_text']:\n",
    "    blob = TextBlob(str(text))\n",
    "    blob.sentiment\n",
    "    score.append(round(blob.sentiment.polarity, 3))\n",
    "    \n",
    "tweets['textblob_score'] = [x for x in score]\n",
    "tweets['textblob_category']  = ['positive' if score > 0\n",
    "                                else 'negative' if score < 0\n",
    "                                else 'neutral'\n",
    "                                for score in tweets['textblob_score']]"
   ]
  },
  {
   "cell_type": "code",
   "execution_count": 6,
   "metadata": {},
   "outputs": [
    {
     "data": {
      "text/html": [
       "<div>\n",
       "<style scoped>\n",
       "    .dataframe tbody tr th:only-of-type {\n",
       "        vertical-align: middle;\n",
       "    }\n",
       "\n",
       "    .dataframe tbody tr th {\n",
       "        vertical-align: top;\n",
       "    }\n",
       "\n",
       "    .dataframe thead th {\n",
       "        text-align: right;\n",
       "    }\n",
       "</style>\n",
       "<table border=\"1\" class=\"dataframe\">\n",
       "  <thead>\n",
       "    <tr style=\"text-align: right;\">\n",
       "      <th></th>\n",
       "      <th>timestamp</th>\n",
       "      <th>text</th>\n",
       "      <th>clean_text</th>\n",
       "      <th>textblob_score</th>\n",
       "      <th>textblob_category</th>\n",
       "    </tr>\n",
       "  </thead>\n",
       "  <tbody>\n",
       "    <tr>\n",
       "      <th>0</th>\n",
       "      <td>2019-05-27 11:49:06+00</td>\n",
       "      <td>Another Test tweet caught stream bitcoin</td>\n",
       "      <td>another test tweet caught stream bitcoin</td>\n",
       "      <td>0.0</td>\n",
       "      <td>neutral</td>\n",
       "    </tr>\n",
       "    <tr>\n",
       "      <th>1</th>\n",
       "      <td>2019-05-27 11:49:22+00</td>\n",
       "      <td>Current Crypto Prices BTC 8721 99 USD ETH 266 ...</td>\n",
       "      <td>current crypto prices btc 8721 99 usd eth 266 ...</td>\n",
       "      <td>0.0</td>\n",
       "      <td>neutral</td>\n",
       "    </tr>\n",
       "    <tr>\n",
       "      <th>2</th>\n",
       "      <td>2019-05-27 11:49:23+00</td>\n",
       "      <td>Spiv Nosar Baz BITCOIN Is An Asset amp NOT A C...</td>\n",
       "      <td>spiv nosar baz bitcoin is an asset amp not a c...</td>\n",
       "      <td>0.0</td>\n",
       "      <td>neutral</td>\n",
       "    </tr>\n",
       "    <tr>\n",
       "      <th>3</th>\n",
       "      <td>2019-05-27 11:49:25+00</td>\n",
       "      <td>We building real bitcoin SV What building brok...</td>\n",
       "      <td>we building real bitcoin sv what building brok...</td>\n",
       "      <td>-0.1</td>\n",
       "      <td>negative</td>\n",
       "    </tr>\n",
       "    <tr>\n",
       "      <th>4</th>\n",
       "      <td>2019-05-27 11:49:32+00</td>\n",
       "      <td>CHANGE IS COMING GET READY Boom Another CB Jab...</td>\n",
       "      <td>change is coming get ready boom another cb jab...</td>\n",
       "      <td>0.2</td>\n",
       "      <td>positive</td>\n",
       "    </tr>\n",
       "  </tbody>\n",
       "</table>\n",
       "</div>"
      ],
      "text/plain": [
       "                timestamp                                               text  \\\n",
       "0  2019-05-27 11:49:06+00           Another Test tweet caught stream bitcoin   \n",
       "1  2019-05-27 11:49:22+00  Current Crypto Prices BTC 8721 99 USD ETH 266 ...   \n",
       "2  2019-05-27 11:49:23+00  Spiv Nosar Baz BITCOIN Is An Asset amp NOT A C...   \n",
       "3  2019-05-27 11:49:25+00  We building real bitcoin SV What building brok...   \n",
       "4  2019-05-27 11:49:32+00  CHANGE IS COMING GET READY Boom Another CB Jab...   \n",
       "\n",
       "                                          clean_text  textblob_score  \\\n",
       "0           another test tweet caught stream bitcoin             0.0   \n",
       "1  current crypto prices btc 8721 99 usd eth 266 ...             0.0   \n",
       "2  spiv nosar baz bitcoin is an asset amp not a c...             0.0   \n",
       "3  we building real bitcoin sv what building brok...            -0.1   \n",
       "4  change is coming get ready boom another cb jab...             0.2   \n",
       "\n",
       "  textblob_category  \n",
       "0           neutral  \n",
       "1           neutral  \n",
       "2           neutral  \n",
       "3          negative  \n",
       "4          positive  "
      ]
     },
     "execution_count": 6,
     "metadata": {},
     "output_type": "execute_result"
    }
   ],
   "source": [
    "##Showing new columns and details\n",
    "\n",
    "tweets.head()"
   ]
  },
  {
   "cell_type": "code",
   "execution_count": 7,
   "metadata": {},
   "outputs": [
    {
     "name": "stderr",
     "output_type": "stream",
     "text": [
      "/Users/jolinchou/opt/anaconda3/envs/tensorflow/lib/python3.8/site-packages/seaborn/categorical.py:3704: UserWarning: The `factorplot` function has been renamed to `catplot`. The original name will be removed in a future release. Please update your code. Note that the default `kind` in `factorplot` (`'point'`) has changed `'strip'` in `catplot`.\n",
      "  warnings.warn(msg)\n"
     ]
    },
    {
     "data": {
      "image/png": "[encoded data removed]",
      "text/plain": [
       "<Figure size 360x360 with 1 Axes>"
      ]
     },
     "metadata": {
      "needs_background": "light"
     },
     "output_type": "display_data"
    }
   ],
   "source": [
    "##Visualizing the textplot sentiment category with plots\n",
    "\n",
    "fc = sns.factorplot(x=\"textblob_category\", hue=\"textblob_category\",\n",
    "data=tweets, kind=\"count\",\n",
    "palette={\"negative\": \"#FE2020\",\n",
    "\"positive\": \"#BADD07\",\n",
    "\"neutral\": \"#68BFF5\"})"
   ]
  },
  {
   "cell_type": "code",
   "execution_count": 8,
   "metadata": {},
   "outputs": [],
   "source": [
    "##Start running vader analyzer and categorizing them with pos, neg, and neu\n",
    "\n",
    "analyser = SentimentIntensityAnalyzer()\n",
    "score = []\n",
    "for text in tweets['clean_text']:\n",
    "    score.append(analyser.polarity_scores(text)['compound'])\n",
    "#print(len(score))\n",
    "\n",
    "tweets['vader_score'] = [x for x in score]\n",
    "tweets['vader_category']  = ['positive' if score > 0.05\n",
    "                                else 'negative' if score < -0.05\n",
    "                                else 'neutral'\n",
    "                                for score in tweets['vader_score']]"
   ]
  },
  {
   "cell_type": "code",
   "execution_count": 9,
   "metadata": {},
   "outputs": [
    {
     "data": {
      "text/html": [
       "<div>\n",
       "<style scoped>\n",
       "    .dataframe tbody tr th:only-of-type {\n",
       "        vertical-align: middle;\n",
       "    }\n",
       "\n",
       "    .dataframe tbody tr th {\n",
       "        vertical-align: top;\n",
       "    }\n",
       "\n",
       "    .dataframe thead th {\n",
       "        text-align: right;\n",
       "    }\n",
       "</style>\n",
       "<table border=\"1\" class=\"dataframe\">\n",
       "  <thead>\n",
       "    <tr style=\"text-align: right;\">\n",
       "      <th></th>\n",
       "      <th>timestamp</th>\n",
       "      <th>text</th>\n",
       "      <th>clean_text</th>\n",
       "      <th>textblob_score</th>\n",
       "      <th>textblob_category</th>\n",
       "      <th>vader_score</th>\n",
       "      <th>vader_category</th>\n",
       "    </tr>\n",
       "  </thead>\n",
       "  <tbody>\n",
       "    <tr>\n",
       "      <th>0</th>\n",
       "      <td>2019-05-27 11:49:06+00</td>\n",
       "      <td>Another Test tweet caught stream bitcoin</td>\n",
       "      <td>another test tweet caught stream bitcoin</td>\n",
       "      <td>0.0</td>\n",
       "      <td>neutral</td>\n",
       "      <td>0.0000</td>\n",
       "      <td>neutral</td>\n",
       "    </tr>\n",
       "    <tr>\n",
       "      <th>1</th>\n",
       "      <td>2019-05-27 11:49:22+00</td>\n",
       "      <td>Current Crypto Prices BTC 8721 99 USD ETH 266 ...</td>\n",
       "      <td>current crypto prices btc 8721 99 usd eth 266 ...</td>\n",
       "      <td>0.0</td>\n",
       "      <td>neutral</td>\n",
       "      <td>0.0000</td>\n",
       "      <td>neutral</td>\n",
       "    </tr>\n",
       "    <tr>\n",
       "      <th>2</th>\n",
       "      <td>2019-05-27 11:49:23+00</td>\n",
       "      <td>Spiv Nosar Baz BITCOIN Is An Asset amp NOT A C...</td>\n",
       "      <td>spiv nosar baz bitcoin is an asset amp not a c...</td>\n",
       "      <td>0.0</td>\n",
       "      <td>neutral</td>\n",
       "      <td>0.3612</td>\n",
       "      <td>positive</td>\n",
       "    </tr>\n",
       "    <tr>\n",
       "      <th>3</th>\n",
       "      <td>2019-05-27 11:49:25+00</td>\n",
       "      <td>We building real bitcoin SV What building brok...</td>\n",
       "      <td>we building real bitcoin sv what building brok...</td>\n",
       "      <td>-0.1</td>\n",
       "      <td>negative</td>\n",
       "      <td>-0.4767</td>\n",
       "      <td>negative</td>\n",
       "    </tr>\n",
       "    <tr>\n",
       "      <th>4</th>\n",
       "      <td>2019-05-27 11:49:32+00</td>\n",
       "      <td>CHANGE IS COMING GET READY Boom Another CB Jab...</td>\n",
       "      <td>change is coming get ready boom another cb jab...</td>\n",
       "      <td>0.2</td>\n",
       "      <td>positive</td>\n",
       "      <td>0.5248</td>\n",
       "      <td>positive</td>\n",
       "    </tr>\n",
       "  </tbody>\n",
       "</table>\n",
       "</div>"
      ],
      "text/plain": [
       "                timestamp                                               text  \\\n",
       "0  2019-05-27 11:49:06+00           Another Test tweet caught stream bitcoin   \n",
       "1  2019-05-27 11:49:22+00  Current Crypto Prices BTC 8721 99 USD ETH 266 ...   \n",
       "2  2019-05-27 11:49:23+00  Spiv Nosar Baz BITCOIN Is An Asset amp NOT A C...   \n",
       "3  2019-05-27 11:49:25+00  We building real bitcoin SV What building brok...   \n",
       "4  2019-05-27 11:49:32+00  CHANGE IS COMING GET READY Boom Another CB Jab...   \n",
       "\n",
       "                                          clean_text  textblob_score  \\\n",
       "0           another test tweet caught stream bitcoin             0.0   \n",
       "1  current crypto prices btc 8721 99 usd eth 266 ...             0.0   \n",
       "2  spiv nosar baz bitcoin is an asset amp not a c...             0.0   \n",
       "3  we building real bitcoin sv what building brok...            -0.1   \n",
       "4  change is coming get ready boom another cb jab...             0.2   \n",
       "\n",
       "  textblob_category  vader_score vader_category  \n",
       "0           neutral       0.0000        neutral  \n",
       "1           neutral       0.0000        neutral  \n",
       "2           neutral       0.3612       positive  \n",
       "3          negative      -0.4767       negative  \n",
       "4          positive       0.5248       positive  "
      ]
     },
     "execution_count": 9,
     "metadata": {},
     "output_type": "execute_result"
    }
   ],
   "source": [
    "##Showing new columns and details\n",
    "\n",
    "tweets.head()"
   ]
  },
  {
   "cell_type": "code",
   "execution_count": 10,
   "metadata": {},
   "outputs": [
    {
     "name": "stderr",
     "output_type": "stream",
     "text": [
      "/Users/jolinchou/opt/anaconda3/envs/tensorflow/lib/python3.8/site-packages/seaborn/categorical.py:3704: UserWarning: The `factorplot` function has been renamed to `catplot`. The original name will be removed in a future release. Please update your code. Note that the default `kind` in `factorplot` (`'point'`) has changed `'strip'` in `catplot`.\n",
      "  warnings.warn(msg)\n"
     ]
    },
    {
     "data": {
      "image/png": "[encoded data removed]",
      "text/plain": [
       "<Figure size 360x360 with 1 Axes>"
      ]
     },
     "metadata": {
      "needs_background": "light"
     },
     "output_type": "display_data"
    }
   ],
   "source": [
    "##Visualizing the vader sentiment category with plots\n",
    "\n",
    "fc = sns.factorplot(x=\"vader_category\", hue=\"vader_category\",\n",
    "data=tweets, kind=\"count\",\n",
    "palette={\"negative\": \"#FE2020\",\n",
    "\"positive\": \"#BADD07\",\n",
    "\"neutral\": \"#68BFF5\"})"
   ]
  },
  {
   "cell_type": "code",
   "execution_count": 11,
   "metadata": {},
   "outputs": [],
   "source": [
    "##Saving a new csv file with sentiment analysis\n",
    "\n",
    "tweets.to_csv('new_preprocessed_tweets.csv')"
   ]
  },
  {
   "cell_type": "code",
   "execution_count": null,
   "metadata": {},
   "outputs": [],
   "source": []
  }
 ],
 "metadata": {
  "kernelspec": {
   "display_name": "Python 3",
   "language": "python",
   "name": "python3"
  },
  "language_info": {
   "codemirror_mode": {
    "name": "ipython",
    "version": 3
   },
   "file_extension": ".py",
   "mimetype": "text/x-python",
   "name": "python",
   "nbconvert_exporter": "python",
   "pygments_lexer": "ipython3",
   "version": "3.8.5"
  }
 },
 "nbformat": 4,
 "nbformat_minor": 4
}
