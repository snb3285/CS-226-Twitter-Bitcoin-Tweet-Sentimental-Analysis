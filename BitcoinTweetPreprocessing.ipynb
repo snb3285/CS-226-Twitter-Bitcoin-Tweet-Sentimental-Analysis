{
 "cells": [
  {
   "cell_type": "code",
   "execution_count": 1,
   "id": "0f701f39",
   "metadata": {},
   "outputs": [],
   "source": [
    "import pandas as pd\n",
    "import re\n",
    "from textblob import TextBlob\n",
    "from textblob import Word\n",
    "from nltk.corpus import stopwords\n",
    "import deep_translator\n",
    "from deep_translator import GoogleTranslator\n",
    "from os.path import exists\n",
    "\n",
    "nrows = 1000000\n",
    "data_filename = \"tweets.csv\"\n",
    "preprocessed_data_filename = \"preprocessed_tweets.csv\"\n",
    "cols = [\"timestamp\", \"text\"]\n",
    "translator = GoogleTranslator(source=\"auto\", target=\"en\")\n",
    "timestamp_text_dict = {\"timestamp\": [], \"text\": []}\n",
    "\n",
    "if not exists(preprocessed_data_filename):\n",
    "    df = pd.read_csv(data_filename, sep=';', nrows=nrows, usecols=cols, lineterminator=\"\\r\")\n",
    "    for index, row in df.iterrows():\n",
    "        if type(row[\"text\"]) == str and row[\"text\"].isascii():\n",
    "            # Regular expression from https://www.geeksforgeeks.org/twitter-sentiment-analysis-using-python/\n",
    "            cleaned = ' '.join(re.sub(\"(@[A-Za-z0-9]+)|([^0-9A-Za-z \\t])|(\\w+:\\/\\/\\S+)\", \" \", row[\"text\"]).split())\n",
    "            textblob = TextBlob(cleaned)\n",
    "            stop_words_removed = []\n",
    "            for word in textblob.words:\n",
    "                if word not in stopwords.words():\n",
    "                    lemmatized_word = Word(word).lemmatize()\n",
    "                    stop_words_removed.append(lemmatized_word)\n",
    "            timestamp_text_dict[\"text\"].append(\" \".join(stop_words_removed))\n",
    "            timestamp_text_dict[\"timestamp\"].append(row[\"timestamp\"])\n",
    "\n",
    "df = pd.DataFrame.from_dict(timestamp_text_dict)\n",
    "df.to_csv(preprocessed_data_filename, index=False)"
   ]
  },
  {
   "cell_type": "code",
   "execution_count": null,
   "id": "e039e0e3",
   "metadata": {},
   "outputs": [],
   "source": []
  }
 ],
 "metadata": {
  "kernelspec": {
   "display_name": "Python 3",
   "language": "python",
   "name": "python3"
  },
  "language_info": {
   "codemirror_mode": {
    "name": "ipython",
    "version": 3
   },
   "file_extension": ".py",
   "mimetype": "text/x-python",
   "name": "python",
   "nbconvert_exporter": "python",
   "pygments_lexer": "ipython3",
   "version": "3.8.8"
  }
 },
 "nbformat": 4,
 "nbformat_minor": 5
}
