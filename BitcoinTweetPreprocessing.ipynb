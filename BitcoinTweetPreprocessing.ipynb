{
 "cells": [
  {
   "cell_type": "code",
   "execution_count": 1,
   "id": "0f701f39",
   "metadata": {},
   "outputs": [],
   "source": [
    "import pandas as pd\n",
    "import re\n",
    "from textblob import TextBlob\n",
    "from nltk.corpus import stopwords\n",
    "\n",
    "chunksize = 100000\n",
    "nrows = 500000\n",
    "data_filename = \"../Data/tweets.csv\"\n",
    "cols = [\"timestamp\", \"text\"]\n",
    "textblobs = []\n",
    "\n",
    "with pd.read_csv(data_filename, sep=';', chunksize=chunksize, nrows=500000, usecols=cols, lineterminator=\"\\r\") as reader:\n",
    "    for chunk in reader:\n",
    "        for i, row in chunk.iterrows():\n",
    "            if type(row[\"text\"]) == str and row[\"text\"].isascii():\n",
    "                textblobs.append(TextBlob(row[\"text\"].lower()))"
   ]
  },
  {
   "cell_type": "code",
   "execution_count": 2,
   "id": "e039e0e3",
   "metadata": {},
   "outputs": [
    {
     "name": "stdout",
     "output_type": "stream",
     "text": [
      "['another', 'test', 'tweet', \"n't\", 'caught', 'stream', 'bitcoin']\n",
      "['current', 'crypto', 'prices', 'btc', 'usd', 'eth', 'usd', 'ltc', 'usd', 'bch', 'usd', 'xlm', 'usd', 'doge', 'usd', 'neo', 'usd', 'xrp', 'usd', 'cann', 'usd', 'emc2', 'usd', 'xmr', 'usd', 'btg', 'usd']\n",
      "['spiv', 'nosar', 'baz', 'bitcoin', 'asset', 'amp', 'currency', 't.co/fjru1ooxsm', 't.co/fybx4h6r6r', 't.co/xzsjmz0h3k', 't.co/v7grfiqg7w', 't.co/oq5hqt5hnn']\n",
      "['nwoodfine', 'building', 'real', 'bitcoin', 'sv', 'building', 'broken', 'btc']\n",
      "['change', 'coming', 'get', 'ready', 'boom', 'another', 'cb', 'jab', 'nothing', 'stop', 'globalism', 'stage', 'cb', 'push', 'make', 'world', 'govt', 'coming', 'people', 'taking', 'lead', 'amp', 'leaders', 'follow', 'majority', 'wwg1wgq', 't.co/tajfwxnwd4']\n",
      "['useful', 'articles', 'stefan', 'guide', 'run', 'ltonetwork', 'node', 'alibaba', 'cloud', 't.co/ij9rlkaabt', 'ltonetwork', 'lto', 'eth', 'xrpcommmunity', 'crypto', 'xlm', 'xrp', 'blockchain', 'xrpcommmunity', 'eos', 'xmr', 'trx', 'ltc', 'enjin', 'ethereum', 'bitcoin']\n",
      "['btc', 'still', 'going', 'strong', 'thus', 'giving', 'away', 'btc', 'bnb', 'lucky', 'winners', 'giveaway', 'doubles', 'rt', 'enter', 'follow', 'us', 'subscribe', 't.co/xdmlttx3ie', 'rt', 'airdrop', 'bitcoin', 'ico', 'cryptocurrency', 'xrp', 'eth', 'trx', 'binance', 'ethereum', 'btc', 'crypto', 'bounty', 't.co/pbcoqu3uzo']\n",
      "['bestmixer', 'seized', 'dutch', 'police', 'luxembourg', 'police', 'french', 'police', 'w', 'association', 'europol', 'bestmixer', 'bitcoin', 'mixer/tumbler', 'cryptocurrency', 'bitcoin', 'bestmixer', 't.co/dxrey9yatt']\n",
      "['share']\n",
      "['countdown', 'comingsoon', 'qlc', 'airdrop', 'q_gas', 'tokens', 'every', 'qlc', 'holders', \"n't\", 'waste', 'opportunity', 'buy', 'hold', 'btc', 'dent', 'poa', 'mco', 'sky', 'hot', 'link', 'btt', 'trx', 'gnt', 'sys', 't.co/cwdysj8ab0']\n",
      "['roughly', 'days', 'left', 'get', 'launhpadfoundation', 'raffle', 'tickets', 'current', 'around', 'litecoin', 'head', 't.co/qltv0r5af8', 'grab', 'tickets', 'today', 'ltc', 'btc', 'crypto', 'litecoinfam', 'airdrop', 'dgb', 'digibyte', 'jonnylitecoin', 'ltcfoundation', 't.co/afibk1pd26']\n",
      "['btc', 'going', 'crazyyy', 'thus', 'giving', 'away', 'btc', 'bnb', 'lucky', 'winners', 'soon', 'giveaway', 'doubles', 'rt', 'enter', 'follow', 'us', 'subscribe', 't.co/xdmlttx3ie', 'rt', 'airdrop', 'bitcoin', 'ico', 'cryptocurrency', 'xrp', 'eth', 'trx', 'binance', 'ethereum', 'btc', 'crypto', 'bounty', 't.co/ndmqjp63fy']\n",
      "['running', 'bitcoin']\n",
      "['t.co/ip0ph8uzyn', 'cryptocurrency', 'drife', 'blockchain', 'crypto', 'eos', 'eth', 'ethereum', 'btc', 'cabs', 'taxi', 'ride', 'rides']\n",
      "['crypto', 'prices', 'rose', 'across', 'board', 'weekend', 'bitcoin', 'nears', 'level', 'trade', 'bitcoin', 'crypto', 'currencies', 'avatrade', 'today', 'trade', 'crypto', 'bitcoin', 'xrp', 'eth', 'xlm', 'dash', 'litecoin', 'blockchain', 'retail', 'investor', 'accounts', 'lose', 'money', 't.co/vycj88pqvk']\n",
      "['bitcoin', 'sv', 'bsv', 'price', 'spikes', 'gains', 'billion', 'copyright', 'application', 'ccn', 't.co/dvf1aqjgxk', 't.co/7xikjbb2e2']\n",
      "['intel', 'intc', 'valuation', 'rose', 'btc', 'capital', 'management', 'increased', 'position', 'schlumberger', 'ltd', 'slb', 'share', 'price', 'declined', 'mcdaniel', 'terry', 'amp', 'co', 'cut', 'million', 'holding', 't.co/hmde6ghvvw']\n",
      "['true', 'crypto', 'currency', 'new', 'asset', 'class', 'people', 'beginning', 'understand', \"'ll\", 'see', 'fellow', 'traders', 'moon']\n",
      "['apompliano', 'bitcoin', 'mean', 'bsv', 'fully', 'agree', 'however', \"'re\", 'talking', 'btc', 'could', \"n't\", 'wrong', 'five', 'years', 'nobody', 'even', 'remember', 'btc']\n",
      "['pls', 'save', 'cuttoff']\n"
     ]
    }
   ],
   "source": [
    "for i in range(len(textblobs)):\n",
    "    words_without_symbols = []\n",
    "    for word in textblobs[i].words:\n",
    "        cleaned_word = re.sub(\"^[^a-z]+$\", \"\", word)\n",
    "        cleaned_word = re.sub(\"http\", \"\", cleaned_word)\n",
    "        cleaned_ord = re.sub(\"https\", \"\", cleaned_word)\n",
    "        if cleaned_word != \"\":\n",
    "            words_without_symbols.append(cleaned_word)\n",
    "    without_stop_words = [word for word in words_without_symbols if not word in stopwords.words()]\n",
    "    textblobs[i] = TextBlob(\" \".join(without_stop_words))\n",
    "            \n",
    "for i in range(20):\n",
    "    print(textblobs[i].words)"
   ]
  }
 ],
 "metadata": {
  "kernelspec": {
   "display_name": "Python 3",
   "language": "python",
   "name": "python3"
  },
  "language_info": {
   "codemirror_mode": {
    "name": "ipython",
    "version": 3
   },
   "file_extension": ".py",
   "mimetype": "text/x-python",
   "name": "python",
   "nbconvert_exporter": "python",
   "pygments_lexer": "ipython3",
   "version": "3.8.8"
  }
 },
 "nbformat": 4,
 "nbformat_minor": 5
}
